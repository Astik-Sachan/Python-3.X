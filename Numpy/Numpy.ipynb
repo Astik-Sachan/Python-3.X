{
 "cells": [
  {
   "cell_type": "code",
   "execution_count": 1,
   "id": "b41bd59c",
   "metadata": {},
   "outputs": [],
   "source": [
    "import numpy as np"
   ]
  },
  {
   "cell_type": "code",
   "execution_count": 2,
   "id": "ffd6d004",
   "metadata": {},
   "outputs": [],
   "source": [
    "import array"
   ]
  },
  {
   "cell_type": "code",
   "execution_count": 3,
   "id": "43ae9fab",
   "metadata": {},
   "outputs": [
    {
     "data": {
      "text/plain": [
       "numpy.ndarray"
      ]
     },
     "execution_count": 3,
     "metadata": {},
     "output_type": "execute_result"
    }
   ],
   "source": [
    "type(np.array([1,2,3,4]))"
   ]
  },
  {
   "cell_type": "code",
   "execution_count": 4,
   "id": "0b24ed9a",
   "metadata": {},
   "outputs": [
    {
     "data": {
      "text/plain": [
       "array({1, 2, 3, 4}, dtype=object)"
      ]
     },
     "execution_count": 4,
     "metadata": {},
     "output_type": "execute_result"
    }
   ],
   "source": [
    "np.array({1,2,3,4})"
   ]
  },
  {
   "cell_type": "code",
   "execution_count": 5,
   "id": "16effa88",
   "metadata": {},
   "outputs": [
    {
     "data": {
      "text/plain": [
       "array({'4+5j', 1, 2, 3, 4, 'Astik'}, dtype=object)"
      ]
     },
     "execution_count": 5,
     "metadata": {},
     "output_type": "execute_result"
    }
   ],
   "source": [
    "np.array({1,2,3,4,'Astik','4+5j'})"
   ]
  },
  {
   "cell_type": "code",
   "execution_count": 6,
   "id": "33f4c4fc",
   "metadata": {},
   "outputs": [
    {
     "data": {
      "text/plain": [
       "array([1. , 2. , 3. , 4. , 5.9])"
      ]
     },
     "execution_count": 6,
     "metadata": {},
     "output_type": "execute_result"
    }
   ],
   "source": [
    "np.array([1,2,3,4,5.9]) # all the data is upcast to Float"
   ]
  },
  {
   "cell_type": "code",
   "execution_count": 7,
   "id": "fe0f2ce7",
   "metadata": {},
   "outputs": [
    {
     "data": {
      "text/plain": [
       "array([[1, 2],\n",
       "       [2, 4]])"
      ]
     },
     "execution_count": 7,
     "metadata": {},
     "output_type": "execute_result"
    }
   ],
   "source": [
    "np.array([[1,2],[2,4]])"
   ]
  },
  {
   "cell_type": "code",
   "execution_count": 8,
   "id": "09d19cca",
   "metadata": {},
   "outputs": [
    {
     "name": "stderr",
     "output_type": "stream",
     "text": [
      "<ipython-input-8-e8c941f121a0>:1: VisibleDeprecationWarning: Creating an ndarray from ragged nested sequences (which is a list-or-tuple of lists-or-tuples-or ndarrays with different lengths or shapes) is deprecated. If you meant to do this, you must specify 'dtype=object' when creating the ndarray.\n",
      "  np.array([[1,2],[2,4],[3,4,5]])\n"
     ]
    },
    {
     "data": {
      "text/plain": [
       "array([list([1, 2]), list([2, 4]), list([3, 4, 5])], dtype=object)"
      ]
     },
     "execution_count": 8,
     "metadata": {},
     "output_type": "execute_result"
    }
   ],
   "source": [
    "np.array([[1,2],[2,4],[3,4,5]])"
   ]
  },
  {
   "cell_type": "code",
   "execution_count": 9,
   "id": "c2b1e673",
   "metadata": {},
   "outputs": [
    {
     "name": "stdout",
     "output_type": "stream",
     "text": [
      "[[1, 2], [2, 4], [3, 4, 5]]\n"
     ]
    }
   ],
   "source": [
    "l = [[1,2],[2,4],[3,4,5]]\n",
    "print(l)"
   ]
  },
  {
   "cell_type": "code",
   "execution_count": 10,
   "id": "b67f7cca",
   "metadata": {},
   "outputs": [
    {
     "data": {
      "text/plain": [
       "array([[[1, 2],\n",
       "        [2, 4]],\n",
       "\n",
       "       [[1, 2],\n",
       "        [2, 4]]])"
      ]
     },
     "execution_count": 10,
     "metadata": {},
     "output_type": "execute_result"
    }
   ],
   "source": [
    "np.array([[[1,2],[2,4]],[[1,2],[2,4]]])"
   ]
  },
  {
   "cell_type": "code",
   "execution_count": 11,
   "id": "2ba47dc6",
   "metadata": {},
   "outputs": [
    {
     "data": {
      "text/plain": [
       "array([[[1, 2, 3]]])"
      ]
     },
     "execution_count": 11,
     "metadata": {},
     "output_type": "execute_result"
    }
   ],
   "source": [
    "np.array([1,2,3],ndmin=3)"
   ]
  },
  {
   "cell_type": "code",
   "execution_count": 12,
   "id": "f4c92740",
   "metadata": {},
   "outputs": [
    {
     "data": {
      "text/plain": [
       "array([[[1.+0.j, 2.+0.j, 3.+0.j]]])"
      ]
     },
     "execution_count": 12,
     "metadata": {},
     "output_type": "execute_result"
    }
   ],
   "source": [
    "np.array([1,2,3],ndmin=3 , dtype=complex)"
   ]
  },
  {
   "cell_type": "code",
   "execution_count": 13,
   "id": "e624196a",
   "metadata": {},
   "outputs": [
    {
     "data": {
      "text/plain": [
       "array([[[1., 2., 3.]]])"
      ]
     },
     "execution_count": 13,
     "metadata": {},
     "output_type": "execute_result"
    }
   ],
   "source": [
    "np.array([1,2,3],ndmin=3 , dtype=float)"
   ]
  },
  {
   "cell_type": "code",
   "execution_count": 14,
   "id": "c05cae5c",
   "metadata": {},
   "outputs": [
    {
     "name": "stdout",
     "output_type": "stream",
     "text": [
      "[[1 2]\n",
      " [4 5]]\n"
     ]
    }
   ],
   "source": [
    "myarray = np.array([(1,2),(4,5)])  #list of tuple both works fine everything\n",
    "print(myarray)                     #gets converted to the ARRAY finally"
   ]
  },
  {
   "cell_type": "markdown",
   "id": "ffe94f4c",
   "metadata": {},
   "source": [
    "**Data Types in Numpy\n",
    "Below is a list of all data types in NumPy and the characters used to represent them.\n",
    "i8: Represents 8 Byte of int i.e. 64bit Integer\n",
    "\n",
    "i - integer\n",
    "b - boolean\n",
    "u - unsigned integer\n",
    "f - float\n",
    "c - complex float\n",
    "m - timedelta\n",
    "M - datetime\n",
    "O - object\n",
    "S - string\n",
    "U - unicode string\n",
    "V - fixed chunk of memory for other type ( void )"
   ]
  },
  {
   "cell_type": "code",
   "execution_count": 15,
   "id": "5e9baf81",
   "metadata": {},
   "outputs": [],
   "source": [
    "arr_4bit = np.array([1],dtype = 'i4')  #np.floatXX , np.intXX "
   ]
  },
  {
   "cell_type": "code",
   "execution_count": 16,
   "id": "c2bb9482",
   "metadata": {},
   "outputs": [
    {
     "data": {
      "text/plain": [
       "numpy.ndarray"
      ]
     },
     "execution_count": 16,
     "metadata": {},
     "output_type": "execute_result"
    }
   ],
   "source": [
    "type(arr_4bit)"
   ]
  },
  {
   "cell_type": "code",
   "execution_count": 17,
   "id": "a5e39f9f",
   "metadata": {},
   "outputs": [
    {
     "data": {
      "text/plain": [
       "dtype('int32')"
      ]
     },
     "execution_count": 17,
     "metadata": {},
     "output_type": "execute_result"
    }
   ],
   "source": [
    "arr_4bit.dtype"
   ]
  },
  {
   "cell_type": "code",
   "execution_count": 18,
   "id": "5f7fa9d1",
   "metadata": {},
   "outputs": [
    {
     "data": {
      "text/plain": [
       "dtype('float64')"
      ]
     },
     "execution_count": 18,
     "metadata": {},
     "output_type": "execute_result"
    }
   ],
   "source": [
    "arr_f64bit = np.array([1],dtype = np.float64)  #np.floatXX , np.intXX\n",
    "arr_f64bit.dtype"
   ]
  },
  {
   "cell_type": "code",
   "execution_count": 19,
   "id": "91475ef5",
   "metadata": {},
   "outputs": [
    {
     "data": {
      "text/plain": [
       "numpy.float64"
      ]
     },
     "execution_count": 19,
     "metadata": {},
     "output_type": "execute_result"
    }
   ],
   "source": [
    "type(arr_f64bit[0])"
   ]
  },
  {
   "cell_type": "code",
   "execution_count": 20,
   "id": "a87a512f",
   "metadata": {},
   "outputs": [
    {
     "name": "stdout",
     "output_type": "stream",
     "text": [
      "[(1, 2) (3, 4)]\n",
      "1 --> <class 'numpy.int16'>\n",
      "2 --> <class 'numpy.int64'>\n",
      "3 --> <class 'numpy.int16'>\n",
      "4 --> <class 'numpy.int64'>\n"
     ]
    }
   ],
   "source": [
    "arr = np.array([(1,2),(3,4)], dtype=[(\"a\",'<i2'),(\"b\",'<i8')]) \n",
    "# Data Type patterns  (a,b) == (i2,i8)\n",
    "print(arr)\n",
    "print(arr[0][0],\"-->\" ,type(arr[0][0]))\n",
    "print(arr[0][1],\"-->\" ,type(arr[0][1]))\n",
    "print(arr[1][0],\"-->\" ,type(arr[1][0]))\n",
    "print(arr[1][1],\"-->\" ,type(arr[1][1]))"
   ]
  },
  {
   "cell_type": "code",
   "execution_count": 21,
   "id": "748ef760",
   "metadata": {},
   "outputs": [
    {
     "data": {
      "text/plain": [
       "matrix([[1, 2],\n",
       "        [3, 4]])"
      ]
     },
     "execution_count": 21,
     "metadata": {},
     "output_type": "execute_result"
    }
   ],
   "source": [
    "#MATRIX\n",
    "np.mat([[1,2],[3,4]])"
   ]
  },
  {
   "cell_type": "code",
   "execution_count": 22,
   "id": "6667828d",
   "metadata": {},
   "outputs": [
    {
     "data": {
      "text/plain": [
       "matrix([[1, 2],\n",
       "        [3, 4]])"
      ]
     },
     "execution_count": 22,
     "metadata": {},
     "output_type": "execute_result"
    }
   ],
   "source": [
    "np.matrix([[1,2],[3,4]])"
   ]
  },
  {
   "cell_type": "code",
   "execution_count": 23,
   "id": "51f6e693",
   "metadata": {},
   "outputs": [
    {
     "data": {
      "text/plain": [
       "array([1, 2, 3, 4, 5])"
      ]
     },
     "execution_count": 23,
     "metadata": {},
     "output_type": "execute_result"
    }
   ],
   "source": [
    "l = [1,2,3,4,5]\n",
    "np.array(l)"
   ]
  },
  {
   "cell_type": "code",
   "execution_count": 24,
   "id": "f5f43005",
   "metadata": {},
   "outputs": [
    {
     "data": {
      "text/plain": [
       "array([1, 2, 3, 4, 5])"
      ]
     },
     "execution_count": 24,
     "metadata": {},
     "output_type": "execute_result"
    }
   ],
   "source": [
    "np.asarray(l)"
   ]
  },
  {
   "cell_type": "code",
   "execution_count": 25,
   "id": "3e7797c0",
   "metadata": {},
   "outputs": [
    {
     "data": {
      "text/plain": [
       "[1, 2, 3, 4, 5]"
      ]
     },
     "execution_count": 25,
     "metadata": {},
     "output_type": "execute_result"
    }
   ],
   "source": [
    "l #OG List remains same"
   ]
  },
  {
   "cell_type": "code",
   "execution_count": 26,
   "id": "a6f47f65",
   "metadata": {},
   "outputs": [
    {
     "data": {
      "text/plain": [
       "True"
      ]
     },
     "execution_count": 26,
     "metadata": {},
     "output_type": "execute_result"
    }
   ],
   "source": [
    "issubclass(np.matrix, np.ndarray )"
   ]
  },
  {
   "cell_type": "code",
   "execution_count": 27,
   "id": "a2e889b7",
   "metadata": {},
   "outputs": [
    {
     "data": {
      "text/plain": [
       "False"
      ]
     },
     "execution_count": 27,
     "metadata": {},
     "output_type": "execute_result"
    }
   ],
   "source": [
    "issubclass(np.ndarray , np.matrix )"
   ]
  },
  {
   "cell_type": "code",
   "execution_count": 28,
   "id": "0e025124",
   "metadata": {},
   "outputs": [],
   "source": [
    "arr = np.array([[1,2],[3,4]])"
   ]
  },
  {
   "cell_type": "code",
   "execution_count": 29,
   "id": "013fd51f",
   "metadata": {},
   "outputs": [],
   "source": [
    "a = arr # Shallow Copy"
   ]
  },
  {
   "cell_type": "code",
   "execution_count": 30,
   "id": "2a159995",
   "metadata": {},
   "outputs": [],
   "source": [
    "b = np.copy(arr) #Deep Copy"
   ]
  },
  {
   "cell_type": "code",
   "execution_count": 31,
   "id": "ea034229",
   "metadata": {},
   "outputs": [],
   "source": [
    "arr[1][1] = 56"
   ]
  },
  {
   "cell_type": "code",
   "execution_count": 32,
   "id": "9af46587",
   "metadata": {},
   "outputs": [
    {
     "data": {
      "text/plain": [
       "array([[ 1,  2],\n",
       "       [ 3, 56]])"
      ]
     },
     "execution_count": 32,
     "metadata": {},
     "output_type": "execute_result"
    }
   ],
   "source": [
    "a"
   ]
  },
  {
   "cell_type": "code",
   "execution_count": 33,
   "id": "0c0aedb6",
   "metadata": {},
   "outputs": [
    {
     "data": {
      "text/plain": [
       "array([[1, 2],\n",
       "       [3, 4]])"
      ]
     },
     "execution_count": 33,
     "metadata": {},
     "output_type": "execute_result"
    }
   ],
   "source": [
    "b"
   ]
  },
  {
   "cell_type": "code",
   "execution_count": 34,
   "id": "b0b36c1a",
   "metadata": {},
   "outputs": [
    {
     "data": {
      "text/plain": [
       "array([[ 1,  2],\n",
       "       [ 3, 56]])"
      ]
     },
     "execution_count": 34,
     "metadata": {},
     "output_type": "execute_result"
    }
   ],
   "source": [
    "arr"
   ]
  },
  {
   "cell_type": "code",
   "execution_count": 39,
   "id": "7f2181b2",
   "metadata": {},
   "outputs": [
    {
     "data": {
      "text/plain": [
       "True"
      ]
     },
     "execution_count": 39,
     "metadata": {},
     "output_type": "execute_result"
    }
   ],
   "source": [
    "id(arr)==id(a)"
   ]
  },
  {
   "cell_type": "code",
   "execution_count": 40,
   "id": "01068316",
   "metadata": {},
   "outputs": [
    {
     "data": {
      "text/plain": [
       "False"
      ]
     },
     "execution_count": 40,
     "metadata": {},
     "output_type": "execute_result"
    }
   ],
   "source": [
    "id(arr)==id(b)"
   ]
  },
  {
   "cell_type": "code",
   "execution_count": 64,
   "id": "031aea9a",
   "metadata": {},
   "outputs": [
    {
     "data": {
      "text/plain": [
       "array([[0., 1., 2., 3.],\n",
       "       [1., 2., 3., 4.],\n",
       "       [2., 3., 4., 5.],\n",
       "       [3., 4., 5., 6.],\n",
       "       [4., 5., 6., 7.],\n",
       "       [5., 6., 7., 8.],\n",
       "       [6., 7., 8., 9.]])"
      ]
     },
     "execution_count": 64,
     "metadata": {},
     "output_type": "execute_result"
    }
   ],
   "source": [
    "np.fromfunction(lambda i,j : i+j,shape=(7,4))"
   ]
  },
  {
   "cell_type": "code",
   "execution_count": 62,
   "id": "489c3ad0",
   "metadata": {},
   "outputs": [
    {
     "data": {
      "text/plain": [
       "42"
      ]
     },
     "execution_count": 62,
     "metadata": {},
     "output_type": "execute_result"
    }
   ],
   "source": [
    "c = lambda i,j : i*j\n",
    "c(6,7)"
   ]
  },
  {
   "cell_type": "code",
   "execution_count": 65,
   "id": "b6ae887e",
   "metadata": {},
   "outputs": [
    {
     "name": "stderr",
     "output_type": "stream",
     "text": [
      "<ipython-input-65-652256b4e562>:1: RuntimeWarning: divide by zero encountered in true_divide\n",
      "  np.fromfunction(lambda i,j : i/j,shape=(4,4))\n",
      "<ipython-input-65-652256b4e562>:1: RuntimeWarning: invalid value encountered in true_divide\n",
      "  np.fromfunction(lambda i,j : i/j,shape=(4,4))\n"
     ]
    },
    {
     "data": {
      "text/plain": [
       "array([[       nan, 0.        , 0.        , 0.        ],\n",
       "       [       inf, 1.        , 0.5       , 0.33333333],\n",
       "       [       inf, 2.        , 1.        , 0.66666667],\n",
       "       [       inf, 3.        , 1.5       , 1.        ]])"
      ]
     },
     "execution_count": 65,
     "metadata": {},
     "output_type": "execute_result"
    }
   ],
   "source": [
    "np.fromfunction(lambda i,j : i/j,shape=(4,4))"
   ]
  },
  {
   "cell_type": "code",
   "execution_count": 66,
   "id": "6ca532c5",
   "metadata": {},
   "outputs": [
    {
     "ename": "ZeroDivisionError",
     "evalue": "division by zero",
     "output_type": "error",
     "traceback": [
      "\u001b[1;31m---------------------------------------------------------------------------\u001b[0m",
      "\u001b[1;31mZeroDivisionError\u001b[0m                         Traceback (most recent call last)",
      "\u001b[1;32m<ipython-input-66-9ab73e148374>\u001b[0m in \u001b[0;36m<module>\u001b[1;34m\u001b[0m\n\u001b[1;32m----> 1\u001b[1;33m \u001b[1;36m0\u001b[0m\u001b[1;33m/\u001b[0m\u001b[1;36m0\u001b[0m\u001b[1;33m\u001b[0m\u001b[1;33m\u001b[0m\u001b[0m\n\u001b[0m",
      "\u001b[1;31mZeroDivisionError\u001b[0m: division by zero"
     ]
    }
   ],
   "source": [
    "0/0  #Python cant handle but numpy can [NaN]"
   ]
  },
  {
   "cell_type": "code",
   "execution_count": 67,
   "id": "39159148",
   "metadata": {},
   "outputs": [
    {
     "ename": "ZeroDivisionError",
     "evalue": "division by zero",
     "output_type": "error",
     "traceback": [
      "\u001b[1;31m---------------------------------------------------------------------------\u001b[0m",
      "\u001b[1;31mZeroDivisionError\u001b[0m                         Traceback (most recent call last)",
      "\u001b[1;32m<ipython-input-67-9e1622b385b6>\u001b[0m in \u001b[0;36m<module>\u001b[1;34m\u001b[0m\n\u001b[1;32m----> 1\u001b[1;33m \u001b[1;36m1\u001b[0m\u001b[1;33m/\u001b[0m\u001b[1;36m0\u001b[0m\u001b[1;33m\u001b[0m\u001b[1;33m\u001b[0m\u001b[0m\n\u001b[0m",
      "\u001b[1;31mZeroDivisionError\u001b[0m: division by zero"
     ]
    }
   ],
   "source": [
    "1/0  #Python cant handle but numpy can [inf]"
   ]
  },
  {
   "cell_type": "code",
   "execution_count": 80,
   "id": "82c21613",
   "metadata": {},
   "outputs": [
    {
     "name": "stdout",
     "output_type": "stream",
     "text": [
      "<generator object <genexpr> at 0x000001B24DE399E0>\n"
     ]
    }
   ],
   "source": [
    "gen = (i*i for i in range(7))\n",
    "print(gen)"
   ]
  },
  {
   "cell_type": "code",
   "execution_count": 74,
   "id": "cc08fa57",
   "metadata": {},
   "outputs": [],
   "source": [
    "def test(x):\n",
    "    yield x"
   ]
  },
  {
   "cell_type": "code",
   "execution_count": 75,
   "id": "346d33e5",
   "metadata": {},
   "outputs": [
    {
     "data": {
      "text/plain": [
       "<generator object test at 0x000001B24BCB6C10>"
      ]
     },
     "execution_count": 75,
     "metadata": {},
     "output_type": "execute_result"
    }
   ],
   "source": [
    "test(5)"
   ]
  },
  {
   "cell_type": "code",
   "execution_count": 81,
   "id": "22ae6de6",
   "metadata": {},
   "outputs": [
    {
     "data": {
      "text/plain": [
       "array([ 0,  1,  4,  9, 16, 25, 36])"
      ]
     },
     "execution_count": 81,
     "metadata": {},
     "output_type": "execute_result"
    }
   ],
   "source": [
    "np.fromiter(gen,dtype = int)  #list() similar"
   ]
  },
  {
   "cell_type": "code",
   "execution_count": 86,
   "id": "813a7157",
   "metadata": {},
   "outputs": [
    {
     "data": {
      "text/plain": [
       "array([0, 1, 2, 3, 4, 5, 6, 7, 8, 9])"
      ]
     },
     "execution_count": 86,
     "metadata": {},
     "output_type": "execute_result"
    }
   ],
   "source": [
    "np.fromiter(range(10),dtype=int)"
   ]
  },
  {
   "cell_type": "code",
   "execution_count": 87,
   "id": "c8d84ebc",
   "metadata": {},
   "outputs": [
    {
     "data": {
      "text/plain": [
       "array([6])"
      ]
     },
     "execution_count": 87,
     "metadata": {},
     "output_type": "execute_result"
    }
   ],
   "source": [
    "np.fromiter(test(6),dtype=int)"
   ]
  },
  {
   "cell_type": "code",
   "execution_count": 92,
   "id": "32f1b1cf",
   "metadata": {},
   "outputs": [],
   "source": [
    "comparr = np.fromstring('1-34j 2 3 4 5 6 7 8',sep=' ',dtype = complex) #string to ARRAY"
   ]
  },
  {
   "cell_type": "code",
   "execution_count": 91,
   "id": "37951662",
   "metadata": {},
   "outputs": [
    {
     "name": "stdout",
     "output_type": "stream",
     "text": [
      "[1.-34.j 2. +0.j 3. +0.j 4. +0.j 5. +0.j 6. +0.j 7. +0.j 8. +0.j]\n"
     ]
    }
   ],
   "source": [
    "print(comparr)"
   ]
  },
  {
   "cell_type": "code",
   "execution_count": 95,
   "id": "9c9c9ae6",
   "metadata": {},
   "outputs": [
    {
     "data": {
      "text/plain": [
       "2"
      ]
     },
     "execution_count": 95,
     "metadata": {},
     "output_type": "execute_result"
    }
   ],
   "source": [
    "arr.ndim #Dimension of the Data"
   ]
  },
  {
   "cell_type": "code",
   "execution_count": 98,
   "id": "4d6863a3",
   "metadata": {},
   "outputs": [
    {
     "data": {
      "text/plain": [
       "4"
      ]
     },
     "execution_count": 98,
     "metadata": {},
     "output_type": "execute_result"
    }
   ],
   "source": [
    "arr.size #Total Number of the Elements"
   ]
  },
  {
   "cell_type": "code",
   "execution_count": 100,
   "id": "b0d5428b",
   "metadata": {},
   "outputs": [
    {
     "data": {
      "text/plain": [
       "(2, 2)"
      ]
     },
     "execution_count": 100,
     "metadata": {},
     "output_type": "execute_result"
    }
   ],
   "source": [
    "arr.shape #Rows  , Columns RC"
   ]
  },
  {
   "cell_type": "code",
   "execution_count": 126,
   "id": "b999c426",
   "metadata": {},
   "outputs": [],
   "source": [
    "arr2 = np.array([[[1,2,3,4],[4,5,6,7]],[[1,2,3,4],[4,5,6,7]]])"
   ]
  },
  {
   "cell_type": "code",
   "execution_count": 127,
   "id": "ed9cfd12",
   "metadata": {},
   "outputs": [
    {
     "data": {
      "text/plain": [
       "array([[[1, 2, 3, 4],\n",
       "        [4, 5, 6, 7]],\n",
       "\n",
       "       [[1, 2, 3, 4],\n",
       "        [4, 5, 6, 7]]])"
      ]
     },
     "execution_count": 127,
     "metadata": {},
     "output_type": "execute_result"
    }
   ],
   "source": [
    "arr2"
   ]
  },
  {
   "cell_type": "code",
   "execution_count": 128,
   "id": "fb4a5030",
   "metadata": {},
   "outputs": [
    {
     "data": {
      "text/plain": [
       "(2, 2, 4)"
      ]
     },
     "execution_count": 128,
     "metadata": {},
     "output_type": "execute_result"
    }
   ],
   "source": [
    "arr2.shape # Readout  :  we have 2 data or (2,4) data  i.e. 2x(2x4)"
   ]
  },
  {
   "cell_type": "code",
   "execution_count": 129,
   "id": "cb4b1787",
   "metadata": {},
   "outputs": [
    {
     "data": {
      "text/plain": [
       "16"
      ]
     },
     "execution_count": 129,
     "metadata": {},
     "output_type": "execute_result"
    }
   ],
   "source": [
    "arr2.size()"
   ]
  },
  {
   "cell_type": "code",
   "execution_count": 130,
   "id": "e9062a84",
   "metadata": {},
   "outputs": [
    {
     "data": {
      "text/plain": [
       "3"
      ]
     },
     "execution_count": 130,
     "metadata": {},
     "output_type": "execute_result"
    }
   ],
   "source": [
    "arr2.ndim"
   ]
  },
  {
   "cell_type": "code",
   "execution_count": 140,
   "id": "76c698ad",
   "metadata": {},
   "outputs": [
    {
     "name": "stdout",
     "output_type": "stream",
     "text": [
      "[[[[1 2 3 4]\n",
      "   [1 2 3 4]]\n",
      "\n",
      "  [[1 2 3 4]\n",
      "   [1 2 3 4]]\n",
      "\n",
      "  [[1 2 3 4]\n",
      "   [1 2 3 4]]\n",
      "\n",
      "  [[1 2 3 4]\n",
      "   [1 2 3 4]]]]\n"
     ]
    },
    {
     "data": {
      "text/plain": [
       "(1, 4, 2, 4)"
      ]
     },
     "execution_count": 140,
     "metadata": {},
     "output_type": "execute_result"
    }
   ],
   "source": [
    "arr2 = np.array([[[[1,2,3,4],[1,2,3,4]],[[1,2,3,4],[1,2,3,4]],[[1,2,3,4],[1,2,3,4]],[[1,2,3,4],[1,2,3,4]]]])#1,4,2,4\n",
    "print(arr2)\n",
    "arr2.shape # Readout  :  we have 1 times of 4 times of 2x4 Matrix "
   ]
  },
  {
   "cell_type": "code",
   "execution_count": 149,
   "id": "9e273f04",
   "metadata": {
    "scrolled": true
   },
   "outputs": [
    {
     "ename": "TypeError",
     "evalue": "'float' object cannot be interpreted as an integer",
     "output_type": "error",
     "traceback": [
      "\u001b[1;31m---------------------------------------------------------------------------\u001b[0m",
      "\u001b[1;31mTypeError\u001b[0m                                 Traceback (most recent call last)",
      "\u001b[1;32m<ipython-input-149-3e767cdceb49>\u001b[0m in \u001b[0;36m<module>\u001b[1;34m\u001b[0m\n\u001b[1;32m----> 1\u001b[1;33m \u001b[0mlist\u001b[0m\u001b[1;33m(\u001b[0m\u001b[0mrange\u001b[0m\u001b[1;33m(\u001b[0m\u001b[1;36m16\u001b[0m\u001b[1;33m,\u001b[0m\u001b[1;36m9.5\u001b[0m\u001b[1;33m,\u001b[0m\u001b[1;33m-\u001b[0m\u001b[1;36m0.4\u001b[0m\u001b[1;33m)\u001b[0m\u001b[1;33m)\u001b[0m \u001b[1;31m#Range Could not do Float Ranges\u001b[0m\u001b[1;33m\u001b[0m\u001b[1;33m\u001b[0m\u001b[0m\n\u001b[0m",
      "\u001b[1;31mTypeError\u001b[0m: 'float' object cannot be interpreted as an integer"
     ]
    }
   ],
   "source": [
    "list(range(16,9.5,-0.4)) #Range Could not do Float Ranges"
   ]
  },
  {
   "cell_type": "code",
   "execution_count": 145,
   "id": "97cdcaaf",
   "metadata": {},
   "outputs": [
    {
     "data": {
      "text/plain": [
       "array([0., 1., 2., 3., 4., 5., 6.])"
      ]
     },
     "execution_count": 145,
     "metadata": {},
     "output_type": "execute_result"
    }
   ],
   "source": [
    "np.arange(6.6)   #Numpy can accept the Floats"
   ]
  },
  {
   "cell_type": "code",
   "execution_count": 144,
   "id": "4e1dc807",
   "metadata": {},
   "outputs": [
    {
     "data": {
      "text/plain": [
       "array([6.6, 7. , 7.4, 7.8, 8.2, 8.6, 9. , 9.4])"
      ]
     },
     "execution_count": 144,
     "metadata": {},
     "output_type": "execute_result"
    }
   ],
   "source": [
    "np.arange(6.6,9.5,0.4) #start stop jump\n",
    "# Upper Bounds are Ignored coz 9.5 != 9.500000000213"
   ]
  },
  {
   "cell_type": "code",
   "execution_count": 146,
   "id": "2ddf3955",
   "metadata": {},
   "outputs": [
    {
     "data": {
      "text/plain": [
       "array([16.6, 16.2, 15.8, 15.4, 15. , 14.6, 14.2, 13.8, 13.4, 13. , 12.6,\n",
       "       12.2, 11.8, 11.4, 11. , 10.6, 10.2,  9.8])"
      ]
     },
     "execution_count": 146,
     "metadata": {},
     "output_type": "execute_result"
    }
   ],
   "source": [
    "np.arange(16.6,9.5,-0.4) #start stop jump"
   ]
  },
  {
   "cell_type": "code",
   "execution_count": 156,
   "id": "8d570276",
   "metadata": {},
   "outputs": [
    {
     "data": {
      "text/plain": [
       "array([ 3.        ,  3.07070707,  3.14141414,  3.21212121,  3.28282828,\n",
       "        3.35353535,  3.42424242,  3.49494949,  3.56565657,  3.63636364,\n",
       "        3.70707071,  3.77777778,  3.84848485,  3.91919192,  3.98989899,\n",
       "        4.06060606,  4.13131313,  4.2020202 ,  4.27272727,  4.34343434,\n",
       "        4.41414141,  4.48484848,  4.55555556,  4.62626263,  4.6969697 ,\n",
       "        4.76767677,  4.83838384,  4.90909091,  4.97979798,  5.05050505,\n",
       "        5.12121212,  5.19191919,  5.26262626,  5.33333333,  5.4040404 ,\n",
       "        5.47474747,  5.54545455,  5.61616162,  5.68686869,  5.75757576,\n",
       "        5.82828283,  5.8989899 ,  5.96969697,  6.04040404,  6.11111111,\n",
       "        6.18181818,  6.25252525,  6.32323232,  6.39393939,  6.46464646,\n",
       "        6.53535354,  6.60606061,  6.67676768,  6.74747475,  6.81818182,\n",
       "        6.88888889,  6.95959596,  7.03030303,  7.1010101 ,  7.17171717,\n",
       "        7.24242424,  7.31313131,  7.38383838,  7.45454545,  7.52525253,\n",
       "        7.5959596 ,  7.66666667,  7.73737374,  7.80808081,  7.87878788,\n",
       "        7.94949495,  8.02020202,  8.09090909,  8.16161616,  8.23232323,\n",
       "        8.3030303 ,  8.37373737,  8.44444444,  8.51515152,  8.58585859,\n",
       "        8.65656566,  8.72727273,  8.7979798 ,  8.86868687,  8.93939394,\n",
       "        9.01010101,  9.08080808,  9.15151515,  9.22222222,  9.29292929,\n",
       "        9.36363636,  9.43434343,  9.50505051,  9.57575758,  9.64646465,\n",
       "        9.71717172,  9.78787879,  9.85858586,  9.92929293, 10.        ])"
      ]
     },
     "execution_count": 156,
     "metadata": {},
     "output_type": "execute_result"
    }
   ],
   "source": [
    "np.linspace(3,10,100) #You need not know the Divisor \n",
    "# Here we mention the Samples we need and it finds out the Jump Size"
   ]
  },
  {
   "cell_type": "code",
   "execution_count": 219,
   "id": "b3223749",
   "metadata": {},
   "outputs": [
    {
     "data": {
      "text/plain": [
       "array([2. , 2.4, 2.8, 3.2, 3.6])"
      ]
     },
     "execution_count": 219,
     "metadata": {},
     "output_type": "execute_result"
    }
   ],
   "source": [
    "np.linspace(2,4,5,endpoint=False) #Include EndPoints"
   ]
  },
  {
   "cell_type": "code",
   "execution_count": 255,
   "id": "3e91eb59",
   "metadata": {},
   "outputs": [
    {
     "name": "stdout",
     "output_type": "stream",
     "text": [
      "Step:\n",
      "\t [0.04081633 0.04081633]\n",
      "Length:\n",
      " (50, 2)\n",
      "Sample:\n",
      " [[4.         4.        ]\n",
      " [4.04081633 4.04081633]\n",
      " [4.08163265 4.08163265]\n",
      " [4.12244898 4.12244898]\n",
      " [4.16326531 4.16326531]\n",
      " [4.20408163 4.20408163]\n",
      " [4.24489796 4.24489796]\n",
      " [4.28571429 4.28571429]\n",
      " [4.32653061 4.32653061]\n",
      " [4.36734694 4.36734694]\n",
      " [4.40816327 4.40816327]\n",
      " [4.44897959 4.44897959]\n",
      " [4.48979592 4.48979592]\n",
      " [4.53061224 4.53061224]\n",
      " [4.57142857 4.57142857]\n",
      " [4.6122449  4.6122449 ]\n",
      " [4.65306122 4.65306122]\n",
      " [4.69387755 4.69387755]\n",
      " [4.73469388 4.73469388]\n",
      " [4.7755102  4.7755102 ]\n",
      " [4.81632653 4.81632653]\n",
      " [4.85714286 4.85714286]\n",
      " [4.89795918 4.89795918]\n",
      " [4.93877551 4.93877551]\n",
      " [4.97959184 4.97959184]\n",
      " [5.02040816 5.02040816]\n",
      " [5.06122449 5.06122449]\n",
      " [5.10204082 5.10204082]\n",
      " [5.14285714 5.14285714]\n",
      " [5.18367347 5.18367347]\n",
      " [5.2244898  5.2244898 ]\n",
      " [5.26530612 5.26530612]\n",
      " [5.30612245 5.30612245]\n",
      " [5.34693878 5.34693878]\n",
      " [5.3877551  5.3877551 ]\n",
      " [5.42857143 5.42857143]\n",
      " [5.46938776 5.46938776]\n",
      " [5.51020408 5.51020408]\n",
      " [5.55102041 5.55102041]\n",
      " [5.59183673 5.59183673]\n",
      " [5.63265306 5.63265306]\n",
      " [5.67346939 5.67346939]\n",
      " [5.71428571 5.71428571]\n",
      " [5.75510204 5.75510204]\n",
      " [5.79591837 5.79591837]\n",
      " [5.83673469 5.83673469]\n",
      " [5.87755102 5.87755102]\n",
      " [5.91836735 5.91836735]\n",
      " [5.95918367 5.95918367]\n",
      " [6.         6.        ]]\n"
     ]
    }
   ],
   "source": [
    "# AXIS = 0  (Shape of Sample changes)\n",
    "[sample, step] = np.linspace([4,4],6,endpoint=True , retstep=True , axis=0) #Include \n",
    "print('Step:\\n\\t',step)\n",
    "print('Length:\\n',sample.shape)\n",
    "print('Sample:\\n',sample)\n"
   ]
  },
  {
   "cell_type": "code",
   "execution_count": 253,
   "id": "e3daf6d1",
   "metadata": {},
   "outputs": [
    {
     "name": "stdout",
     "output_type": "stream",
     "text": [
      "Step:\n",
      "\t [0.04081633 0.04081633]\n",
      "Length:\n",
      " (2, 50)\n",
      "Sample:\n",
      " [[4.         4.04081633 4.08163265 4.12244898 4.16326531 4.20408163\n",
      "  4.24489796 4.28571429 4.32653061 4.36734694 4.40816327 4.44897959\n",
      "  4.48979592 4.53061224 4.57142857 4.6122449  4.65306122 4.69387755\n",
      "  4.73469388 4.7755102  4.81632653 4.85714286 4.89795918 4.93877551\n",
      "  4.97959184 5.02040816 5.06122449 5.10204082 5.14285714 5.18367347\n",
      "  5.2244898  5.26530612 5.30612245 5.34693878 5.3877551  5.42857143\n",
      "  5.46938776 5.51020408 5.55102041 5.59183673 5.63265306 5.67346939\n",
      "  5.71428571 5.75510204 5.79591837 5.83673469 5.87755102 5.91836735\n",
      "  5.95918367 6.        ]\n",
      " [4.         4.04081633 4.08163265 4.12244898 4.16326531 4.20408163\n",
      "  4.24489796 4.28571429 4.32653061 4.36734694 4.40816327 4.44897959\n",
      "  4.48979592 4.53061224 4.57142857 4.6122449  4.65306122 4.69387755\n",
      "  4.73469388 4.7755102  4.81632653 4.85714286 4.89795918 4.93877551\n",
      "  4.97959184 5.02040816 5.06122449 5.10204082 5.14285714 5.18367347\n",
      "  5.2244898  5.26530612 5.30612245 5.34693878 5.3877551  5.42857143\n",
      "  5.46938776 5.51020408 5.55102041 5.59183673 5.63265306 5.67346939\n",
      "  5.71428571 5.75510204 5.79591837 5.83673469 5.87755102 5.91836735\n",
      "  5.95918367 6.        ]]\n"
     ]
    }
   ],
   "source": [
    "#AXIS = 1 (Shape of Sample changes)\n",
    "[sample, step] = np.linspace([4,4],6,endpoint=True , retstep=True , axis=1) #Include \n",
    "print('Step:\\n\\t',step)\n",
    "print('Length:\\n',sample.shape)\n",
    "print('Sample:\\n',sample)\n"
   ]
  },
  {
   "cell_type": "code",
   "execution_count": 167,
   "id": "98cb84b7",
   "metadata": {},
   "outputs": [
    {
     "data": {
      "text/plain": [
       "array([[[[0, 0, 0, 0, 0],\n",
       "         [0, 0, 0, 0, 0],\n",
       "         [0, 0, 0, 0, 0]],\n",
       "\n",
       "        [[0, 0, 0, 0, 0],\n",
       "         [0, 0, 0, 0, 0],\n",
       "         [0, 0, 0, 0, 0]]]])"
      ]
     },
     "execution_count": 167,
     "metadata": {},
     "output_type": "execute_result"
    }
   ],
   "source": [
    "np.zeros([1,2,3,5],dtype=int)"
   ]
  },
  {
   "cell_type": "code",
   "execution_count": 174,
   "id": "7ca2525a",
   "metadata": {},
   "outputs": [
    {
     "data": {
      "text/plain": [
       "array([[[[46., 46., 46., 46.],\n",
       "         [46., 46., 46., 46.]],\n",
       "\n",
       "        [[46., 46., 46., 46.],\n",
       "         [46., 46., 46., 46.]],\n",
       "\n",
       "        [[46., 46., 46., 46.],\n",
       "         [46., 46., 46., 46.]]]])"
      ]
     },
     "execution_count": 174,
     "metadata": {},
     "output_type": "execute_result"
    }
   ],
   "source": [
    "np.ones([1,3,2,4],dtype=float)+45"
   ]
  },
  {
   "cell_type": "code",
   "execution_count": 210,
   "id": "ef0cc194",
   "metadata": {},
   "outputs": [
    {
     "data": {
      "text/plain": [
       "array([[False, False, False, False,  True, False, False, False, False],\n",
       "       [False, False, False,  True,  True,  True,  True,  True,  True],\n",
       "       [False, False, False, False, False, False, False,  True, False]])"
      ]
     },
     "execution_count": 210,
     "metadata": {},
     "output_type": "execute_result"
    }
   ],
   "source": [
    "np.empty([3,9],dtype=bool) #Random Data"
   ]
  },
  {
   "cell_type": "code",
   "execution_count": 211,
   "id": "96d6bda8",
   "metadata": {},
   "outputs": [
    {
     "data": {
      "text/plain": [
       "array([[0, 0, 0, 0, 0, 0, 0, 0, 0],\n",
       "       [0, 0, 0, 0, 0, 0, 0, 0, 0],\n",
       "       [0, 0, 0, 0, 0, 0, 0, 0, 0]])"
      ]
     },
     "execution_count": 211,
     "metadata": {},
     "output_type": "execute_result"
    }
   ],
   "source": [
    "np.empty([3,9],dtype=int) #Random Data"
   ]
  },
  {
   "cell_type": "code",
   "execution_count": 215,
   "id": "c889ee9f",
   "metadata": {},
   "outputs": [
    {
     "data": {
      "text/plain": [
       "array([[1., 0., 0., 0., 0.],\n",
       "       [0., 1., 0., 0., 0.],\n",
       "       [0., 0., 1., 0., 0.],\n",
       "       [0., 0., 0., 1., 0.],\n",
       "       [0., 0., 0., 0., 1.]])"
      ]
     },
     "execution_count": 215,
     "metadata": {},
     "output_type": "execute_result"
    }
   ],
   "source": [
    "np.eye(5) #Only Outputs Diagonal Symmetric Mats hence no 2D Dims"
   ]
  },
  {
   "cell_type": "code",
   "execution_count": 277,
   "id": "860ca0a2",
   "metadata": {},
   "outputs": [
    {
     "data": {
      "text/plain": [
       "[<matplotlib.lines.Line2D at 0x1b24d8ec370>]"
      ]
     },
     "execution_count": 277,
     "metadata": {},
     "output_type": "execute_result"
    },
    {
     "data": {
      "image/png": "[encoded data removed]",
      "text/plain": [
       "<Figure size 432x288 with 1 Axes>"
      ]
     },
     "metadata": {
      "needs_background": "light"
     },
     "output_type": "display_data"
    }
   ],
   "source": [
    "import matplotlib.pyplot as plt\n",
    "[sample, step] = np.linspace([4,5],10,endpoint=True , retstep=True , axis=0) #Include \n",
    "plt.plot(sample[:,0])\n",
    "plt.plot(sample[:,1])"
   ]
  },
  {
   "cell_type": "code",
   "execution_count": 296,
   "id": "af37f08c",
   "metadata": {},
   "outputs": [
    {
     "name": "stdout",
     "output_type": "stream",
     "text": [
      "[[  16.           32.        ]\n",
      " [  45.254834     76.10925536]\n",
      " [ 128.          181.01933598]\n",
      " [ 362.03867197  430.53896461]\n",
      " [1024.         1024.        ]]\n"
     ]
    },
    {
     "data": {
      "text/plain": [
       "[<matplotlib.lines.Line2D at 0x1b24f1238e0>]"
      ]
     },
     "execution_count": 296,
     "metadata": {},
     "output_type": "execute_result"
    },
    {
     "data": {
      "image/png": "[encoded data removed]",
      "text/plain": [
       "<Figure size 432x288 with 1 Axes>"
      ]
     },
     "metadata": {
      "needs_background": "light"
     },
     "output_type": "display_data"
    }
   ],
   "source": [
    "import matplotlib.pyplot as plt\n",
    "sample = np.logspace([4,5],10,endpoint=True , axis=0 , base=2 , num=5) #Include \n",
    "print(sample)\n",
    "plt.plot(sample[:,0])\n",
    "plt.plot(sample[:,1])"
   ]
  },
  {
   "cell_type": "code",
   "execution_count": 312,
   "id": "1068b00d",
   "metadata": {},
   "outputs": [],
   "source": [
    "sample = np.logspace([4,10],10,endpoint=True , axis=0 , base=2 , num=40) #Include "
   ]
  },
  {
   "cell_type": "code",
   "execution_count": 313,
   "id": "76f98203",
   "metadata": {},
   "outputs": [
    {
     "data": {
      "text/plain": [
       "(40, 2)"
      ]
     },
     "execution_count": 313,
     "metadata": {},
     "output_type": "execute_result"
    }
   ],
   "source": [
    "sample.shape #shape is 40,2 : 40x2 = 80"
   ]
  },
  {
   "cell_type": "code",
   "execution_count": 314,
   "id": "f546c5db",
   "metadata": {},
   "outputs": [
    {
     "data": {
      "text/plain": [
       "array([[[  16.        , 1024.        ,   17.80050362, 1024.        ],\n",
       "        [  19.80362056, 1024.        ,   22.03215122, 1024.        ],\n",
       "        [  24.51146172, 1024.        ,   27.26977269, 1024.        ],\n",
       "        [  30.33848046, 1024.        ,   33.75251445, 1024.        ],\n",
       "        [  37.55073472, 1024.        ,   41.77637433, 1024.        ],\n",
       "        [  46.4775314 , 1024.        ,   51.70771661, 1024.        ],\n",
       "        [  57.52646228, 1024.        ,   64.        , 1024.        ],\n",
       "        [  71.20201447, 1024.        ,   79.21448226, 1024.        ],\n",
       "        [  88.12860488, 1024.        ,   98.04584687, 1024.        ],\n",
       "        [ 109.07909074, 1024.        ,  121.35392184, 1024.        ],\n",
       "        [ 135.01005779, 1024.        ,  150.20293888, 1024.        ],\n",
       "        [ 167.10549731, 1024.        ,  185.91012558, 1024.        ],\n",
       "        [ 206.83086644, 1024.        ,  230.10584914, 1024.        ],\n",
       "        [ 256.        , 1024.        ,  284.80805788, 1024.        ],\n",
       "        [ 316.85792904, 1024.        ,  352.51441951, 1024.        ],\n",
       "        [ 392.18338748, 1024.        ,  436.31636297, 1024.        ],\n",
       "        [ 485.41568734, 1024.        ,  540.04023116, 1024.        ],\n",
       "        [ 600.81175552, 1024.        ,  668.42198923, 1024.        ],\n",
       "        [ 743.64050233, 1024.        ,  827.32346574, 1024.        ],\n",
       "        [ 920.42339655, 1024.        , 1024.        , 1024.        ]]])"
      ]
     },
     "execution_count": 314,
     "metadata": {},
     "output_type": "execute_result"
    }
   ],
   "source": [
    "sample.reshape([1,20,4])  # make sure to keep axbxc = 80 [not less / not more]"
   ]
  },
  {
   "cell_type": "code",
   "execution_count": 316,
   "id": "6c99b3ff",
   "metadata": {},
   "outputs": [
    {
     "data": {
      "text/plain": [
       "array([[[  16.        , 1024.        ,   17.80050362, 1024.        ,\n",
       "           19.80362056, 1024.        ,   22.03215122, 1024.        ,\n",
       "           24.51146172, 1024.        ],\n",
       "        [  27.26977269, 1024.        ,   30.33848046, 1024.        ,\n",
       "           33.75251445, 1024.        ,   37.55073472, 1024.        ,\n",
       "           41.77637433, 1024.        ],\n",
       "        [  46.4775314 , 1024.        ,   51.70771661, 1024.        ,\n",
       "           57.52646228, 1024.        ,   64.        , 1024.        ,\n",
       "           71.20201447, 1024.        ],\n",
       "        [  79.21448226, 1024.        ,   88.12860488, 1024.        ,\n",
       "           98.04584687, 1024.        ,  109.07909074, 1024.        ,\n",
       "          121.35392184, 1024.        ]],\n",
       "\n",
       "       [[ 135.01005779, 1024.        ,  150.20293888, 1024.        ,\n",
       "          167.10549731, 1024.        ,  185.91012558, 1024.        ,\n",
       "          206.83086644, 1024.        ],\n",
       "        [ 230.10584914, 1024.        ,  256.        , 1024.        ,\n",
       "          284.80805788, 1024.        ,  316.85792904, 1024.        ,\n",
       "          352.51441951, 1024.        ],\n",
       "        [ 392.18338748, 1024.        ,  436.31636297, 1024.        ,\n",
       "          485.41568734, 1024.        ,  540.04023116, 1024.        ,\n",
       "          600.81175552, 1024.        ],\n",
       "        [ 668.42198923, 1024.        ,  743.64050233, 1024.        ,\n",
       "          827.32346574, 1024.        ,  920.42339655, 1024.        ,\n",
       "         1024.        , 1024.        ]]])"
      ]
     },
     "execution_count": 316,
     "metadata": {},
     "output_type": "execute_result"
    }
   ],
   "source": [
    "sample.reshape([2,4,10])  # 2x4x10 = 80"
   ]
  },
  {
   "cell_type": "code",
   "execution_count": 359,
   "id": "3660227a",
   "metadata": {},
   "outputs": [
    {
     "data": {
      "text/plain": [
       "array([0.67363631, 0.98275634, 0.9267779 , 0.23493642, 0.29825777])"
      ]
     },
     "execution_count": 359,
     "metadata": {},
     "output_type": "execute_result"
    }
   ],
   "source": [
    "np.random.rand(5)"
   ]
  },
  {
   "cell_type": "code",
   "execution_count": 358,
   "id": "ee4d04e1",
   "metadata": {},
   "outputs": [
    {
     "data": {
      "text/plain": [
       "array([-0.59371548,  0.56165049, -1.70834407, -0.7891463 , -0.48369006])"
      ]
     },
     "execution_count": 358,
     "metadata": {},
     "output_type": "execute_result"
    }
   ],
   "source": [
    "np.random.randn(5) # From Standard Normal Distribution with Mean = 0"
   ]
  },
  {
   "cell_type": "code",
   "execution_count": 361,
   "id": "e331a458",
   "metadata": {},
   "outputs": [
    {
     "data": {
      "text/plain": [
       "array([[-0.14537315,  0.78766581,  0.54308228],\n",
       "       [ 0.05271541,  0.66434107, -0.09493313]])"
      ]
     },
     "execution_count": 361,
     "metadata": {},
     "output_type": "execute_result"
    }
   ],
   "source": [
    "np.random.randn(2,3)"
   ]
  },
  {
   "cell_type": "code",
   "execution_count": 406,
   "id": "fb391230",
   "metadata": {},
   "outputs": [
    {
     "data": {
      "text/plain": [
       "array([[4, 6, 2, 0, 2, 8],\n",
       "       [9, 4, 2, 0, 7, 8],\n",
       "       [2, 3, 8, 3, 0, 6],\n",
       "       [9, 8, 3, 0, 3, 9]])"
      ]
     },
     "execution_count": 406,
     "metadata": {},
     "output_type": "execute_result"
    }
   ],
   "source": [
    "np.random.randint(0,10 , (4,6))  #Shape [4x4] data between 5 to 10"
   ]
  },
  {
   "cell_type": "code",
   "execution_count": 422,
   "id": "15d68499",
   "metadata": {},
   "outputs": [],
   "source": [
    "arr = np.random.randint(3,9,(5,6))"
   ]
  },
  {
   "cell_type": "code",
   "execution_count": 423,
   "id": "e3464e7e",
   "metadata": {},
   "outputs": [
    {
     "data": {
      "text/plain": [
       "array([[3, 5, 5, 8, 5, 5],\n",
       "       [4, 5, 5, 7, 8, 6],\n",
       "       [7, 8, 6, 4, 8, 7],\n",
       "       [8, 4, 5, 7, 6, 5],\n",
       "       [8, 7, 7, 3, 4, 3]])"
      ]
     },
     "execution_count": 423,
     "metadata": {},
     "output_type": "execute_result"
    }
   ],
   "source": [
    "arr"
   ]
  },
  {
   "cell_type": "code",
   "execution_count": 425,
   "id": "2de9e07d",
   "metadata": {},
   "outputs": [
    {
     "data": {
      "text/plain": [
       "array([[[3, 5, 5],\n",
       "        [8, 5, 5]],\n",
       "\n",
       "       [[4, 5, 5],\n",
       "        [7, 8, 6]],\n",
       "\n",
       "       [[7, 8, 6],\n",
       "        [4, 8, 7]],\n",
       "\n",
       "       [[8, 4, 5],\n",
       "        [7, 6, 5]],\n",
       "\n",
       "       [[8, 7, 7],\n",
       "        [3, 4, 3]]])"
      ]
     },
     "execution_count": 425,
     "metadata": {},
     "output_type": "execute_result"
    }
   ],
   "source": [
    "arr.reshape(5,2,-1)  #Reshape will figure out the -1 if possible and throw error if not"
   ]
  },
  {
   "cell_type": "code",
   "execution_count": 427,
   "id": "f30960e0",
   "metadata": {},
   "outputs": [
    {
     "data": {
      "text/plain": [
       "8"
      ]
     },
     "execution_count": 427,
     "metadata": {},
     "output_type": "execute_result"
    }
   ],
   "source": [
    "arr.max()"
   ]
  },
  {
   "cell_type": "code",
   "execution_count": 428,
   "id": "7e8d16b8",
   "metadata": {},
   "outputs": [
    {
     "data": {
      "text/plain": [
       "3"
      ]
     },
     "execution_count": 428,
     "metadata": {},
     "output_type": "execute_result"
    }
   ],
   "source": [
    "arr.min()"
   ]
  },
  {
   "cell_type": "code",
   "execution_count": 433,
   "id": "8588f5ef",
   "metadata": {},
   "outputs": [
    {
     "name": "stdout",
     "output_type": "stream",
     "text": [
      "[[7 5 8 7 7]\n",
      " [4 6 7 4 9]\n",
      " [6 7 5 9 4]\n",
      " [8 7 4 4 6]\n",
      " [5 9 6 5 4]]\n"
     ]
    }
   ],
   "source": [
    "arr = np.random.randint(4,10,(5,5))\n",
    "print(arr)"
   ]
  },
  {
   "attachments": {
    "image.png": {
     "image/png": "[encoded data removed]"
    }
   },
   "cell_type": "markdown",
   "id": "2e6fc598",
   "metadata": {},
   "source": [
    "![image.png](attachment:image.png)"
   ]
  },
  {
   "cell_type": "code",
   "execution_count": 435,
   "id": "a928821b",
   "metadata": {},
   "outputs": [
    {
     "data": {
      "text/plain": [
       "array([[4, 6],\n",
       "       [5, 4]])"
      ]
     },
     "execution_count": 435,
     "metadata": {},
     "output_type": "execute_result"
    }
   ],
   "source": [
    "arr[3:,3:]"
   ]
  },
  {
   "attachments": {
    "image.png": {
     "image/png": "[encoded data removed]"
    }
   },
   "cell_type": "markdown",
   "id": "0e08105a",
   "metadata": {},
   "source": [
    "![image.png](attachment:image.png)"
   ]
  },
  {
   "cell_type": "code",
   "execution_count": 439,
   "id": "7c75db12",
   "metadata": {},
   "outputs": [
    {
     "data": {
      "text/plain": [
       "array([[5, 7],\n",
       "       [6, 4],\n",
       "       [7, 9],\n",
       "       [7, 4],\n",
       "       [9, 5]])"
      ]
     },
     "execution_count": 439,
     "metadata": {},
     "output_type": "execute_result"
    }
   ],
   "source": [
    "arr[:,[1,3]]"
   ]
  },
  {
   "cell_type": "code",
   "execution_count": null,
   "id": "ce01b18f",
   "metadata": {},
   "outputs": [],
   "source": []
  },
  {
   "cell_type": "code",
   "execution_count": null,
   "id": "aa52e57d",
   "metadata": {},
   "outputs": [],
   "source": []
  },
  {
   "cell_type": "code",
   "execution_count": null,
   "id": "8a0f3222",
   "metadata": {},
   "outputs": [],
   "source": []
  },
  {
   "cell_type": "code",
   "execution_count": null,
   "id": "84403250",
   "metadata": {},
   "outputs": [],
   "source": []
  },
  {
   "cell_type": "code",
   "execution_count": null,
   "id": "163464f3",
   "metadata": {},
   "outputs": [],
   "source": []
  },
  {
   "cell_type": "code",
   "execution_count": null,
   "id": "e8a0a63f",
   "metadata": {},
   "outputs": [],
   "source": []
  }
 ],
 "metadata": {
  "kernelspec": {
   "display_name": "Python 3",
   "language": "python",
   "name": "python3"
  },
  "language_info": {
   "codemirror_mode": {
    "name": "ipython",
    "version": 3
   },
   "file_extension": ".py",
   "mimetype": "text/x-python",
   "name": "python",
   "nbconvert_exporter": "python",
   "pygments_lexer": "ipython3",
   "version": "3.8.8"
  }
 },
 "nbformat": 4,
 "nbformat_minor": 5
}
